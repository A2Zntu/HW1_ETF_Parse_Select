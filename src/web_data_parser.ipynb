{
 "cells": [
  {
   "cell_type": "code",
   "execution_count": 2,
   "metadata": {},
   "outputs": [],
   "source": [
    "from bs4 import BeautifulSoup \n",
    "import requests\n",
    "from selenium import webdriver\n",
    "import pandas as pd\n",
    "import os\n",
    "import time\n",
    "import re"
   ]
  },
  {
   "cell_type": "code",
   "execution_count": 3,
   "metadata": {},
   "outputs": [],
   "source": [
    "def get_home_page(url, sym):\n",
    "    '''Parse the Home page from ETFdb.com'''\n",
    "    time.sleep(0.5)\n",
    "    resp = requests.get(url = url)\n",
    "    dom = resp.text\n",
    "    soup = BeautifulSoup(dom, 'html.parser')\n",
    "    if soup.find_all('a', string = \"Home page\"):\n",
    "        link = str(soup.find('a', string = \"Home page\").attrs['href'])\n",
    "        return str(link)\n",
    "    else:\n",
    "        print(\"Can't find the home url!\")\n",
    "    "
   ]
  },
  {
   "cell_type": "code",
   "execution_count": 4,
   "metadata": {},
   "outputs": [
    {
     "ename": "NameError",
     "evalue": "name 'work_dir' is not defined",
     "output_type": "error",
     "traceback": [
      "\u001b[1;31m---------------------------------------------------------------------------\u001b[0m",
      "\u001b[1;31mNameError\u001b[0m                                 Traceback (most recent call last)",
      "\u001b[1;32m<ipython-input-4-253588305221>\u001b[0m in \u001b[0;36m<module>\u001b[1;34m()\u001b[0m\n\u001b[1;32m----> 1\u001b[1;33m \u001b[1;32mdef\u001b[0m \u001b[0mwrite_raw_csv\u001b[0m\u001b[1;33m(\u001b[0m\u001b[0murl\u001b[0m\u001b[1;33m,\u001b[0m \u001b[0mcsv_name\u001b[0m\u001b[1;33m,\u001b[0m \u001b[0mresults_path\u001b[0m \u001b[1;33m=\u001b[0m \u001b[0mos\u001b[0m\u001b[1;33m.\u001b[0m\u001b[0mpath\u001b[0m\u001b[1;33m.\u001b[0m\u001b[0mjoin\u001b[0m\u001b[1;33m(\u001b[0m\u001b[0mwork_dir\u001b[0m\u001b[1;33m,\u001b[0m \u001b[1;34m'data'\u001b[0m\u001b[1;33m,\u001b[0m \u001b[1;34m'Raw_csv'\u001b[0m\u001b[1;33m)\u001b[0m\u001b[1;33m)\u001b[0m\u001b[1;33m:\u001b[0m\u001b[1;33m\u001b[0m\u001b[1;33m\u001b[0m\u001b[0m\n\u001b[0m\u001b[0;32m      2\u001b[0m     \u001b[1;34m'''Write csv from url'''\u001b[0m\u001b[1;33m\u001b[0m\u001b[1;33m\u001b[0m\u001b[0m\n\u001b[0;32m      3\u001b[0m     \u001b[1;32mif\u001b[0m \u001b[1;32mnot\u001b[0m \u001b[0mos\u001b[0m\u001b[1;33m.\u001b[0m\u001b[0mpath\u001b[0m\u001b[1;33m.\u001b[0m\u001b[0misdir\u001b[0m\u001b[1;33m(\u001b[0m\u001b[0mresults_path\u001b[0m\u001b[1;33m)\u001b[0m\u001b[1;33m:\u001b[0m\u001b[1;33m\u001b[0m\u001b[1;33m\u001b[0m\u001b[0m\n\u001b[0;32m      4\u001b[0m         \u001b[0mos\u001b[0m\u001b[1;33m.\u001b[0m\u001b[0mmkdir\u001b[0m\u001b[1;33m(\u001b[0m\u001b[0mresults_path\u001b[0m\u001b[1;33m)\u001b[0m\u001b[1;33m\u001b[0m\u001b[1;33m\u001b[0m\u001b[0m\n\u001b[0;32m      5\u001b[0m     \u001b[0mresponse\u001b[0m \u001b[1;33m=\u001b[0m \u001b[0mrequests\u001b[0m\u001b[1;33m.\u001b[0m\u001b[0mget\u001b[0m\u001b[1;33m(\u001b[0m\u001b[0murl\u001b[0m\u001b[1;33m)\u001b[0m\u001b[1;33m\u001b[0m\u001b[1;33m\u001b[0m\u001b[0m\n",
      "\u001b[1;31mNameError\u001b[0m: name 'work_dir' is not defined"
     ]
    }
   ],
   "source": [
    "def write_raw_csv(url, csv_name, results_path = os.path.join(work_dir, 'data', 'Raw_csv')):\n",
    "    '''Write csv from url'''\n",
    "    if not os.path.isdir(results_path):\n",
    "        os.mkdir(results_path)\n",
    "    response = requests.get(url)\n",
    "    with open(os.path.join(results_path, csv_name),  'wb') as f:\n",
    "        f.write(response.content)\n",
    "        f.close()\n",
    "    print(\"Sucessfully writing {}\".format(csv_name))\n",
    "    "
   ]
  },
  {
   "cell_type": "markdown",
   "metadata": {},
   "source": [
    "## Parse from flexshares"
   ]
  },
  {
   "cell_type": "code",
   "execution_count": 5,
   "metadata": {},
   "outputs": [],
   "source": [
    "def download_from_flexshares(link, sym):\n",
    "    time.sleep(0.5)\n",
    "    resp = requests.get(url = link)\n",
    "    dom = resp.text\n",
    "    soup = BeautifulSoup(dom, 'html.parser')\n",
    "    csv_name = sym + \".csv\"\n",
    "    if soup.find('a', href = re.compile(\".*?\\.csv\")):\n",
    "        link_tail = soup.find('a', href = re.compile(\".*?\\.csv\")).attrs['href']\n",
    "        url = 'https://www.flexshares.com' + str(link_tail)\n",
    "        write_raw_csv(url, csv_name)\n",
    "    else:\n",
    "        print(\"Can't download raw csv!\")\n",
    "    "
   ]
  },
  {
   "cell_type": "markdown",
   "metadata": {},
   "source": [
    "## Parse from IShares"
   ]
  },
  {
   "cell_type": "code",
   "execution_count": 6,
   "metadata": {},
   "outputs": [],
   "source": [
    "def download_from_ishares(link, sym):\n",
    "    time.sleep(0.5)\n",
    "    resp = requests.get(url = link)\n",
    "    dom = resp.text\n",
    "    soup = BeautifulSoup(dom, 'html.parser')\n",
    "    csv_name = sym + \".xls\"\n",
    "    if soup.find('a', string = 'Download'):\n",
    "        link_tail = soup.find('a',  class_=\"icon-xls-export\", href = re.compile(\"/us/products/*\"), string = 'Download').attrs['href']\n",
    "        url = 'https://www.flexshares.com' + str(link_tail)\n",
    "        write_raw_csv(url, csv_name)\n",
    "    else:\n",
    "        print(\"Can't download raw csv!\")\n"
   ]
  },
  {
   "cell_type": "markdown",
   "metadata": {},
   "source": [
    "## Classify links"
   ]
  },
  {
   "cell_type": "code",
   "execution_count": 7,
   "metadata": {},
   "outputs": [],
   "source": [
    "def classify_web_page(link, sym, groupName):\n",
    "    if groupName == 'FlexShares':\n",
    "        download_from_flexshares(link, sym)\n",
    "        return True\n",
    "    elif groupName == 'iShares':\n",
    "        download_from_ishares(link, sym)\n",
    "        return True\n",
    "        \n",
    "    else:\n",
    "        print(\"Can't download raw csv!\")\n",
    "        return False\n",
    "            "
   ]
  },
  {
   "cell_type": "markdown",
   "metadata": {},
   "source": [
    "# Main Function"
   ]
  },
  {
   "cell_type": "code",
   "execution_count": 7,
   "metadata": {},
   "outputs": [
    {
     "name": "stdout",
     "output_type": "stream",
     "text": [
      "FPA\n",
      "http://www.ftportfolios.com/Retail/etf/etfsummary.aspx?Ticker=FPA\n",
      "Can't download raw csv!\n",
      "FPXI\n",
      "http://www.ftportfolios.com/Retail/Etf/EtfSummary.aspx?Ticker=FPXI\n",
      "Can't download raw csv!\n"
     ]
    }
   ],
   "source": [
    "if __name__ ==  '__main__':\n",
    "    work_dir = os.getcwd()\n",
    "    data_dir = os.path.join(work_dir, 'data', 'Input_data')\n",
    "    ETFwebsite = 'https://etfdb.com/etf'\n",
    "    input_data = 'group17_region.csv'\n",
    "    ETFList = pd.read_csv(os.path.join(os.path.join(data_dir), input_data))\n",
    "    ETF_Symbol= ETFList['Symbol']\n",
    "    ETF_GroupNames= ETFList['Group']\n",
    "    for sym, groupName in zip(ETF_Symbol, ETF_GroupNames):\n",
    "        if groupName == 'First':\n",
    "            url = ETFwebsite + \"/\" + str(sym)\n",
    "            print(sym)\n",
    "            link = get_home_page(url, sym)\n",
    "            print(link)\n",
    "            classify_web_page(link, sym, groupName)\n",
    " "
   ]
  }
 ],
 "metadata": {
  "kernelspec": {
   "display_name": "Python 3",
   "language": "python",
   "name": "python3"
  },
  "language_info": {
   "codemirror_mode": {
    "name": "ipython",
    "version": 3
   },
   "file_extension": ".py",
   "mimetype": "text/x-python",
   "name": "python",
   "nbconvert_exporter": "python",
   "pygments_lexer": "ipython3",
   "version": "3.6.5"
  }
 },
 "nbformat": 4,
 "nbformat_minor": 2
}

{
 "cells": [
  {
   "cell_type": "code",
   "execution_count": 144,
   "metadata": {},
   "outputs": [],
   "source": [
    "from bs4 import BeautifulSoup \n",
    "import requests\n",
    "import webbrowser\n",
    "from urllib.parse import urlparse\n",
    "import pandas as pd\n",
    "import os\n",
    "import time\n",
    "import re"
   ]
  },
  {
   "cell_type": "code",
   "execution_count": 145,
   "metadata": {},
   "outputs": [],
   "source": [
    "def get_home_page(url, sym):\n",
    "    '''Parse the Home page from ETFdb.com'''\n",
    "    time.sleep(0.5)\n",
    "    resp = requests.get(url = url)\n",
    "    dom = resp.text\n",
    "    soup = BeautifulSoup(dom, 'html.parser')\n",
    "    if soup.find_all('a', string = \"Home page\"):\n",
    "        link = str(soup.find('a', string = \"Home page\").attrs['href'])\n",
    "        return str(link)\n",
    "    else:\n",
    "        print(\"Can't find the home url!\")\n",
    "    "
   ]
  },
  {
   "cell_type": "code",
   "execution_count": 175,
   "metadata": {},
   "outputs": [],
   "source": [
    "def write_raw_csv(url, csv_name, results_path = os.path.join(work_dir, 'data', 'Raw_csv')):\n",
    "    '''Write csv from url'''\n",
    "    if not os.path.isdir(results_path):\n",
    "        os.mkdir(results_path)\n",
    "    response = requests.get(url)\n",
    "    with open(os.path.join(results_path, csv_name),  'wb') as f:\n",
    "        f.write(response.content)\n",
    "        f.close()\n",
    "    print(\"Sucessfully writing {}\".format(csv_name))\n",
    "    "
   ]
  },
  {
   "cell_type": "markdown",
   "metadata": {},
   "source": [
    "## Parse from flexshares"
   ]
  },
  {
   "cell_type": "code",
   "execution_count": 147,
   "metadata": {},
   "outputs": [],
   "source": [
    "def download_from_flexshares(link, sym):\n",
    "    time.sleep(0.5)\n",
    "    resp = requests.get(url = link)\n",
    "    dom = resp.text\n",
    "    soup = BeautifulSoup(dom, 'html.parser')\n",
    "    csv_name = sym + \".csv\"\n",
    "    if soup.find('a', href = re.compile(\".*?\\.csv\")):\n",
    "        link_tail = soup.find('a', href = re.compile(\".*?\\.csv\")).attrs['href']\n",
    "        url = 'https://www.flexshares.com' + str(link_tail)\n",
    "        write_raw_csv(url, csv_name)\n",
    "    else:\n",
    "        print(\"Can't download raw csv!\")\n",
    "    "
   ]
  },
  {
   "cell_type": "markdown",
   "metadata": {},
   "source": [
    "## Parse from IShares"
   ]
  },
  {
   "cell_type": "code",
   "execution_count": 191,
   "metadata": {},
   "outputs": [],
   "source": [
    "def download_from_ishares(link, sym):\n",
    "    time.sleep(0.5)\n",
    "    resp = requests.get(url = link)\n",
    "    dom = resp.text\n",
    "    soup = BeautifulSoup(dom, 'html.parser')\n",
    "    csv_name = sym + \".xls\"\n",
    "    if soup.find('a', string = 'Download'):\n",
    "        link_tail = soup.find('a',  class_=\"icon-xls-export\", href = re.compile(\"/us/products/*\"), string = 'Download').attrs['href']\n",
    "        url = 'https://www.flexshares.com' + str(link_tail)\n",
    "        write_raw_csv(url, csv_name)\n",
    "    else:\n",
    "        print(\"Can't download raw csv!\")\n"
   ]
  },
  {
   "cell_type": "markdown",
   "metadata": {},
   "source": [
    "## Classify links"
   ]
  },
  {
   "cell_type": "code",
   "execution_count": 192,
   "metadata": {},
   "outputs": [],
   "source": [
    "def classify_web_page(link, sym, groupName):\n",
    "    if groupName == 'FlexShares':\n",
    "        download_from_flexshares(link, sym)\n",
    "        return True\n",
    "    elif groupName == 'iShares':\n",
    "        download_from_ishares(link, sym)\n",
    "        return True\n",
    "        \n",
    "    else:\n",
    "        print(\"Can't download raw csv!\")\n",
    "        return False\n",
    "            "
   ]
  },
  {
   "cell_type": "markdown",
   "metadata": {},
   "source": [
    "# Main Function"
   ]
  },
  {
   "cell_type": "code",
   "execution_count": 193,
   "metadata": {},
   "outputs": [
    {
     "name": "stdout",
     "output_type": "stream",
     "text": [
      "IEMG\n",
      "http://us.ishares.com/product_info/fund/overview/IEMG.htm?fundSearch=true&qt=IEMG\n",
      "Sucessfully writing IEMG.xls\n",
      "HEEM\n",
      "https://www.ishares.com/us/products/268704/ishares-currency-hedged-msci-emerging-markets\n",
      "Sucessfully writing HEEM.xls\n",
      "AXJV\n",
      "http://www.ishares.com/us/products/264606/AXJV\n",
      "Sucessfully writing AXJV.xls\n",
      "EMGF\n",
      "https://www.ishares.com/us/products/272820/ishares-msci-emerging-multi-factor-etf\n",
      "Sucessfully writing EMGF.xls\n",
      "ACWX\n",
      "http://us.ishares.com/product_info/fund/overview/ACWX.htm?qt=ACWX\n",
      "Sucessfully writing ACWX.xls\n",
      "AAXJ\n",
      "http://us.ishares.com/product_info/fund/overview/AAXJ.htm?qt=AAXJ\n",
      "Sucessfully writing AAXJ.xls\n",
      "EEMA\n",
      "https://www.ishares.com/us/products/239629/EEMA?referrer=tickerSearch\n",
      "Sucessfully writing EEMA.xls\n",
      "AIA\n",
      "http://us.ishares.com/product_info/fund/overview/AIA.htm?qt=AIA\n",
      "Sucessfully writing AIA.xls\n"
     ]
    }
   ],
   "source": [
    "if __name__ ==  '__main__':\n",
    "    work_dir = os.getcwd()\n",
    "    data_dir = os.path.join(work_dir, 'data', 'Input_data')\n",
    "    ETFwebsite = 'https://etfdb.com/etf'\n",
    "    input_data = 'group17_region.csv'\n",
    "    ETFList = pd.read_csv(os.path.join(os.path.join(data_dir), input_data))\n",
    "    ETF_Symbol= ETFList['Symbol']\n",
    "    ETF_GroupNames= ETFList['Group']\n",
    "    for sym, groupName in zip(ETF_Symbol, ETF_GroupNames):\n",
    "        if groupName == 'iShares':\n",
    "            url = ETFwebsite + \"/\" + str(sym)\n",
    "            print(sym)\n",
    "            link = get_home_page(url, sym)\n",
    "            print(link)\n",
    "            classify_web_page(link, sym, groupName)\n",
    " "
   ]
  }
 ],
 "metadata": {
  "kernelspec": {
   "display_name": "Python 3",
   "language": "python",
   "name": "python3"
  },
  "language_info": {
   "codemirror_mode": {
    "name": "ipython",
    "version": 3
   },
   "file_extension": ".py",
   "mimetype": "text/x-python",
   "name": "python",
   "nbconvert_exporter": "python",
   "pygments_lexer": "ipython3",
   "version": "3.6.5"
  }
 },
 "nbformat": 4,
 "nbformat_minor": 2
}
